{
 "cells": [
  {
   "cell_type": "code",
   "execution_count": 172,
   "metadata": {},
   "outputs": [],
   "source": [
    "import numpy as np # 1.16.2\n",
    "import pandas as pd # 0.25.1\n",
    "import sklearn.metrics # 0.21.2"
   ]
  },
  {
   "cell_type": "code",
   "execution_count": 173,
   "metadata": {},
   "outputs": [
    {
     "name": "stdout",
     "output_type": "stream",
     "text": [
      "Fixed 49820 probablity sums to be equal to 1\n",
      "100000 predictions for class 1\n",
      "100000 predictions for class 2\n",
      "100000 predictions for class 3\n"
     ]
    }
   ],
   "source": [
    "def read_data(path):\n",
    "    df = pd.read_csv(path, header=None)\n",
    "    return df.to_numpy()\n",
    "\n",
    "def split_different_models(data):\n",
    "    predictions1, predictions2, predictions3 = [], [], []\n",
    "    fixed_sums = 0\n",
    "    for row in data:\n",
    "        if np.sum(row[2:7]) != 1:\n",
    "            row[np.random.choice(5) + 2] += 1 - np.sum(row[2:7])\n",
    "            fixed_sums += 1\n",
    "        if row[0] == 'model_id_1':\n",
    "            predictions1.append(row[2:])\n",
    "        elif row[0] == 'model_id_2':\n",
    "            predictions2.append(row[2:])\n",
    "        elif row[0] == 'model_id_3':\n",
    "            predictions3.append(row[2:])\n",
    "        else:\n",
    "            raise ValueError(f\"Unexpected model {row[0]}\")\n",
    "        \n",
    "    print(f\"Fixed {fixed_sums} probablity sums to be equal to 1\")\n",
    "    return map(lambda x: np.array(x, dtype='float64'), [predictions1, predictions2, predictions3])\n",
    "\n",
    "data = read_data('student_dataset.csv')\n",
    "predictions1, predictions2, predictions3 = split_different_models(data)  \n",
    "print(f'{len(predictions1)} predictions for class 1')\n",
    "print(f'{len(predictions2)} predictions for class 2')\n",
    "print(f'{len(predictions3)} predictions for class 3')"
   ]
  },
  {
   "cell_type": "code",
   "execution_count": 174,
   "metadata": {},
   "outputs": [],
   "source": [
    "def softmax(x):\n",
    "    return np.exp(x) / np.sum(np.exp(x), axis=0)\n",
    "\n",
    "def calculate_prediction_accuracy_with_random_choice(prediction):\n",
    "    model_classes = [np.random.choice(5, 1, p=row[:5]) for row in prediction]\n",
    "    return sklearn.metrics.accuracy_score(prediction[:, -1], model_classes) \n",
    "\n",
    "def calculate_prediction_accuracy_with_argmax(prediction):\n",
    "    model_classes = [np.argmax(row[:5]) for row in prediction]\n",
    "    return sklearn.metrics.accuracy_score(prediction[:, -1], model_classes) \n",
    "\n",
    "def calculate_prediction_accuracy_with_softmax(prediction):\n",
    "    model_classes = [np.random.choice(5, 1, p=softmax(row[:5])) for row in prediction]\n",
    "    return sklearn.metrics.accuracy_score(prediction[:, -1], model_classes)\n",
    "\n",
    "def calculate_accuracy(predictions1, predictions2, predictions3, f):\n",
    "    print(f\"Accuracy of the first model is {f(predictions1)}\")\n",
    "    print(f\"Accuracy of the second model is {f(predictions2)}\")\n",
    "    print(f\"Accuracy of the third model is {f(predictions3)}\")"
   ]
  },
  {
   "cell_type": "code",
   "execution_count": 175,
   "metadata": {},
   "outputs": [
    {
     "name": "stdout",
     "output_type": "stream",
     "text": [
      "Accuracy of the first model is 0.54818\n",
      "Accuracy of the second model is 0.35693\n",
      "Accuracy of the third model is 0.59298\n"
     ]
    }
   ],
   "source": [
    "calculate_accuracy(predictions1, predictions2, predictions3, calculate_prediction_accuracy_with_random_choice)"
   ]
  },
  {
   "cell_type": "code",
   "execution_count": null,
   "metadata": {},
   "outputs": [
    {
     "name": "stdout",
     "output_type": "stream",
     "text": [
      "Applying softmax\n",
      "Accuracy of the first model is 0.28457\n"
     ]
    }
   ],
   "source": [
    "print(\"Applying softmax\")\n",
    "calculate_accuracy(predictions1, predictions2, predictions3, calculate_prediction_accuracy_with_softmax)"
   ]
  },
  {
   "cell_type": "code",
   "execution_count": null,
   "metadata": {},
   "outputs": [],
   "source": [
    "print(\"Choosing class by argmax\")\n",
    "calculate_accuracy(predictions1, predictions2, predictions3, calculate_prediction_accuracy_with_argmax)"
   ]
  },
  {
   "cell_type": "markdown",
   "metadata": {},
   "source": [
    "В первую очередь стоит заметить, что для первой модели вероятности классов это 0, 0.5 или 1. Для второй модели вероятности могут быть абсолютно любыми, и зачастую есть две вероятности, которые очень близки друг к другу. В третьей модели вероятности это 0 или 1.\n",
    "\n",
    "Таким образом, для первой и третьей модели не стоит вопрос как выбрать класс. Для второй же модели можно пробовать различные варианты.\n",
    "\n",
    "Я пробовал выбирать класс пропорционально вероятностям, применять softmax, а потом выбирать с вероятностями и просто брать наибольшую вероятность. Именно наибольшая вероятность показала наибольший результат среди всех моделей. \n",
    "По второй модели у меня возникло ощущение, что она как будто недотренирована, уж слишком часто там получаются близкие вероятности.\n",
    "\n",
    "\n",
    "Кроме того, я пытался анализировать данные несколькими другими способами. Я строил confusion_matrix и смотрел точности для каждого класса по отдельности, но там не нашел интересных закономерностей.\n",
    "\n",
    "Помимо accuracy я считал и другие метрики (precission, recall, f1), но они были очень похожи на accuracy и не давали новой информации."
   ]
  },
  {
   "cell_type": "code",
   "execution_count": null,
   "metadata": {},
   "outputs": [],
   "source": []
  }
 ],
 "metadata": {
  "kernelspec": {
   "display_name": "Python 3",
   "language": "python",
   "name": "python3"
  },
  "language_info": {
   "codemirror_mode": {
    "name": "ipython",
    "version": 3
   },
   "file_extension": ".py",
   "mimetype": "text/x-python",
   "name": "python",
   "nbconvert_exporter": "python",
   "pygments_lexer": "ipython3",
   "version": "3.7.2"
  }
 },
 "nbformat": 4,
 "nbformat_minor": 2
}
